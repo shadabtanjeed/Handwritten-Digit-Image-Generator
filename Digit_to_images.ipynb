{
  "cells": [
    {
      "cell_type": "markdown",
      "metadata": {},
      "source": [
        "## Import the necessary libraries"
      ]
    },
    {
      "cell_type": "code",
      "execution_count": 34,
      "metadata": {
        "id": "1286PXoSV5Oo"
      },
      "outputs": [],
      "source": [
        "import torch\n",
        "import torch.nn as nn\n",
        "import torch.optim as optim\n",
        "from torchvision import datasets, transforms\n",
        "from torch.utils.data import DataLoader\n",
        "import matplotlib.pyplot as plt\n",
        "import numpy as np\n",
        "import matplotlib.pyplot as plt"
      ]
    },
    {
      "cell_type": "code",
      "execution_count": 35,
      "metadata": {},
      "outputs": [
        {
          "name": "stdout",
          "output_type": "stream",
          "text": [
            "fish: Unknown command: nvidia-smi\n",
            "fish: \n",
            "nvidia-smi\n",
            "^~~~~~~~~^\n",
            "Using device: cpu\n"
          ]
        }
      ],
      "source": [
        "# Check and enable GPU\n",
        "!nvidia-smi\n",
        "device = torch.device(\"cuda\" if torch.cuda.is_available() else \"cpu\")\n",
        "print(f\"Using device: {device}\")"
      ]
    },
    {
      "cell_type": "markdown",
      "metadata": {},
      "source": [
        "## Data Preparation and Loading\n",
        "\n",
        "We prepare the MNIST dataset using torchvision, applying a simple transformation to convert images to tensors. The training data is loaded using a DataLoader for efficient batching and shuffling. This setup is essential for training the Conditional Variational Autoencoder (CVAE) model on handwritten digit images."
      ]
    },
    {
      "cell_type": "code",
      "execution_count": 36,
      "metadata": {
        "id": "hrzNMBakXd2u"
      },
      "outputs": [],
      "source": [
        "transform_train = transforms.Compose([\n",
        "    transforms.RandomRotation(10),\n",
        "    transforms.RandomAffine(degrees=0, translate=(0.1, 0.1)),\n",
        "    transforms.ToTensor(),\n",
        "    transforms.Normalize((0.1307,), (0.3081,))  # MNIST normalization\n",
        "])\n",
        "\n",
        "transform_val = transforms.Compose([\n",
        "    transforms.ToTensor(),\n",
        "    transforms.Normalize((0.1307,), (0.3081,))\n",
        "])\n",
        "\n",
        "train_dataset = datasets.MNIST(root='./data', train=True, download=True, transform=transform_train)\n",
        "val_dataset = datasets.MNIST(root='./data', train=False, download=True, transform=transform_val)"
      ]
    },
    {
      "cell_type": "markdown",
      "metadata": {},
      "source": [
        "## Model Architecture\n",
        "\n",
        "We define a Conditional Variational Autoencoder (CVAE) model using PyTorch. The encoder takes both the input image and its corresponding label (as an additional channel), processes them through convolutional layers, and outputs the mean and log-variance for the latent space. The decoder reconstructs the image from the latent vector concatenated with the label information. This architecture enables the model to generate images conditioned on specific digit labels, allowing for controlled generation of handwritten digits."
      ]
    },
    {
      "cell_type": "code",
      "execution_count": 37,
      "metadata": {
        "id": "Qv7j4SH2Xefj"
      },
      "outputs": [],
      "source": [
        "def improved_loss_function(recon_x, x, mu, logvar, beta=1.0):\n",
        "    # Use MSE loss for better reconstruction\n",
        "    MSE = nn.functional.mse_loss(recon_x, x, reduction='sum')\n",
        "    \n",
        "    # KL divergence with beta weighting\n",
        "    KLD = -0.5 * torch.sum(1 + logvar - mu.pow(2) - logvar.exp())\n",
        "    \n",
        "    return MSE + beta * KLD"
      ]
    },
    {
      "cell_type": "code",
      "execution_count": 38,
      "metadata": {
        "id": "ZWK6vyBTYRpd"
      },
      "outputs": [],
      "source": [
        "class ImprovedCVAE(nn.Module):\n",
        "    def __init__(self, latent_dim=128):\n",
        "        super(ImprovedCVAE, self).__init__()\n",
        "        self.latent_dim = latent_dim\n",
        "        self.label_dim = 10\n",
        "\n",
        "        # Improved Encoder with BatchNorm and Dropout\n",
        "        self.encoder = nn.Sequential(\n",
        "            nn.Conv2d(1 + 1, 32, kernel_size=4, stride=2, padding=1),  # 28x28 -> 14x14\n",
        "            nn.BatchNorm2d(32),\n",
        "            nn.LeakyReLU(0.2),\n",
        "            nn.Conv2d(32, 64, kernel_size=4, stride=2, padding=1),     # 14x14 -> 7x7\n",
        "            nn.BatchNorm2d(64),\n",
        "            nn.LeakyReLU(0.2),\n",
        "            nn.Conv2d(64, 128, kernel_size=4, stride=2, padding=1),    # 7x7 -> 4x4 (with padding adjustment)\n",
        "            nn.BatchNorm2d(128),\n",
        "            nn.LeakyReLU(0.2),\n",
        "            nn.Dropout(0.3),\n",
        "            nn.Flatten()\n",
        "        )\n",
        "        \n",
        "        # Correct flattened size calculation: \n",
        "        # Input: 28x28 -> Conv1: 14x14 -> Conv2: 7x7 -> Conv3: 3x3 (28->14->7->3)\n",
        "        # But with padding=1: 28->14->7->4, so it's actually 128 * 3 * 3 = 1152\n",
        "        self.flattened_size = 128 * 3 * 3  # Fixed calculation\n",
        "\n",
        "        self.fc_mu = nn.Linear(self.flattened_size, latent_dim)\n",
        "        self.fc_logvar = nn.Linear(self.flattened_size, latent_dim)\n",
        "\n",
        "        # Improved Decoder\n",
        "        self.decoder_input = nn.Linear(latent_dim + self.label_dim, 128 * 3 * 3)\n",
        "\n",
        "        self.decoder = nn.Sequential(\n",
        "            nn.Unflatten(1, (128, 3, 3)),\n",
        "            nn.ConvTranspose2d(128, 64, kernel_size=4, stride=2, padding=1),  # 3x3 -> 6x6\n",
        "            nn.BatchNorm2d(64),\n",
        "            nn.ReLU(),\n",
        "            nn.ConvTranspose2d(64, 32, kernel_size=4, stride=2, padding=1),   # 6x6 -> 12x12\n",
        "            nn.BatchNorm2d(32),\n",
        "            nn.ReLU(),\n",
        "            nn.ConvTranspose2d(32, 1, kernel_size=5, stride=2, padding=1),    # 12x12 -> 25x25\n",
        "            nn.ReLU(),\n",
        "            nn.ConvTranspose2d(1, 1, kernel_size=4, stride=1, padding=0),     # 25x25 -> 28x28\n",
        "            nn.Sigmoid()\n",
        "        )\n",
        "\n",
        "    def reparameterize(self, mu, logvar):\n",
        "        std = torch.exp(0.5 * logvar)\n",
        "        eps = torch.randn_like(std)\n",
        "        return mu + eps * std\n",
        "\n",
        "    def forward(self, x, labels_onehot):\n",
        "        # Better label conditioning - create label map with same spatial dimensions as input\n",
        "        label_map = labels_onehot.view(-1, 10, 1, 1).expand(-1, -1, 28, 28)\n",
        "        # Use first channel of label map (or sum across label dimensions)\n",
        "        label_channel = torch.sum(label_map * torch.arange(10, device=x.device).view(1, 10, 1, 1), dim=1, keepdim=True) / 45.0  # normalize by max sum\n",
        "        x_cond = torch.cat([x, label_channel], dim=1)\n",
        "\n",
        "        encoded = self.encoder(x_cond)\n",
        "        mu = self.fc_mu(encoded)\n",
        "        logvar = self.fc_logvar(encoded)\n",
        "        z = self.reparameterize(mu, logvar)\n",
        "\n",
        "        z_cond = torch.cat([z, labels_onehot], dim=1)\n",
        "        dec_input = self.decoder_input(z_cond)\n",
        "        x_recon = self.decoder(dec_input)\n",
        "        return x_recon, mu, logvar"
      ]
    },
    {
      "cell_type": "markdown",
      "metadata": {},
      "source": [
        "## Model Training\n",
        "\n",
        "We train the Conditional Variational Autoencoder (CVAE) using the MNIST training dataset. For each epoch, the model processes batches of images and their corresponding labels, computes the reconstruction and KL divergence losses, and updates the model parameters using the Adam optimizer. The training loop prints the average loss per epoch, providing insight into the model's learning progress."
      ]
    },
    {
      "cell_type": "code",
      "execution_count": 39,
      "metadata": {
        "colab": {
          "base_uri": "https://localhost:8080/"
        },
        "id": "9_AWsUR2XxYC",
        "outputId": "d3ee14f7-0a63-4fd5-ae41-75604093fd3a"
      },
      "outputs": [
        {
          "name": "stdout",
          "output_type": "stream",
          "text": [
            "Epoch 1/50\n",
            "Train Loss: 171.1948, Val Loss: 141.3906\n",
            "LR: 0.001000\n",
            "--------------------------------------------------\n",
            "Epoch 2/50\n",
            "Train Loss: 100.5693, Val Loss: 47.9909\n",
            "LR: 0.001000\n",
            "--------------------------------------------------\n",
            "Epoch 3/50\n",
            "Train Loss: 46.4329, Val Loss: 45.4971\n",
            "LR: 0.001000\n",
            "--------------------------------------------------\n",
            "Epoch 4/50\n",
            "Train Loss: 44.2546, Val Loss: 43.6108\n",
            "LR: 0.001000\n",
            "--------------------------------------------------\n",
            "Epoch 5/50\n",
            "Train Loss: 42.2005, Val Loss: 41.4392\n",
            "LR: 0.001000\n",
            "--------------------------------------------------\n",
            "Epoch 6/50\n",
            "Train Loss: 40.1443, Val Loss: 39.3317\n",
            "LR: 0.001000\n",
            "--------------------------------------------------\n",
            "Epoch 7/50\n",
            "Train Loss: 38.1524, Val Loss: 37.2086\n",
            "LR: 0.001000\n",
            "--------------------------------------------------\n",
            "Epoch 8/50\n",
            "Train Loss: 36.2111, Val Loss: 35.1986\n",
            "LR: 0.001000\n",
            "--------------------------------------------------\n",
            "Epoch 9/50\n",
            "Train Loss: 34.3728, Val Loss: 33.3684\n",
            "LR: 0.001000\n",
            "--------------------------------------------------\n",
            "Epoch 10/50\n",
            "Train Loss: 32.7854, Val Loss: 31.6350\n",
            "LR: 0.000500\n",
            "--------------------------------------------------\n",
            "Epoch 11/50\n",
            "Train Loss: 31.3305, Val Loss: 30.5521\n",
            "LR: 0.000500\n",
            "--------------------------------------------------\n",
            "Epoch 12/50\n",
            "Train Loss: 30.5530, Val Loss: 29.7114\n",
            "LR: 0.000500\n",
            "--------------------------------------------------\n",
            "Epoch 13/50\n",
            "Train Loss: 29.8410, Val Loss: 29.0830\n",
            "LR: 0.000500\n",
            "--------------------------------------------------\n",
            "Epoch 14/50\n",
            "Train Loss: 29.2147, Val Loss: 28.5139\n",
            "LR: 0.000500\n",
            "--------------------------------------------------\n",
            "Epoch 15/50\n",
            "Train Loss: 28.6664, Val Loss: 27.9456\n",
            "LR: 0.000500\n",
            "--------------------------------------------------\n",
            "Epoch 16/50\n",
            "Train Loss: 28.1705, Val Loss: 27.4103\n",
            "LR: 0.000500\n",
            "--------------------------------------------------\n",
            "Epoch 17/50\n",
            "Train Loss: 27.7238, Val Loss: 27.1722\n",
            "LR: 0.000500\n",
            "--------------------------------------------------\n",
            "Epoch 18/50\n",
            "Train Loss: 27.4231, Val Loss: 26.7415\n",
            "LR: 0.000500\n",
            "--------------------------------------------------\n",
            "Epoch 19/50\n",
            "Train Loss: 27.1253, Val Loss: 26.3187\n",
            "LR: 0.000500\n",
            "--------------------------------------------------\n",
            "Epoch 20/50\n",
            "Train Loss: 26.9079, Val Loss: 26.2182\n",
            "LR: 0.000250\n",
            "--------------------------------------------------\n",
            "Epoch 21/50\n",
            "Train Loss: 26.5079, Val Loss: 25.8369\n",
            "LR: 0.000250\n",
            "--------------------------------------------------\n",
            "Epoch 22/50\n",
            "Train Loss: 26.3404, Val Loss: 25.7475\n",
            "LR: 0.000250\n",
            "--------------------------------------------------\n",
            "Epoch 23/50\n",
            "Train Loss: 26.2531, Val Loss: 25.6281\n",
            "LR: 0.000250\n",
            "--------------------------------------------------\n",
            "Epoch 24/50\n",
            "Train Loss: 26.1444, Val Loss: 25.4860\n",
            "LR: 0.000250\n",
            "--------------------------------------------------\n",
            "Epoch 25/50\n",
            "Train Loss: 26.0573, Val Loss: 25.4214\n",
            "LR: 0.000250\n",
            "--------------------------------------------------\n",
            "Epoch 26/50\n",
            "Train Loss: 25.9616, Val Loss: 25.2898\n",
            "LR: 0.000250\n",
            "--------------------------------------------------\n",
            "Epoch 27/50\n",
            "Train Loss: 25.8634, Val Loss: 25.1708\n",
            "LR: 0.000250\n",
            "--------------------------------------------------\n",
            "Epoch 28/50\n",
            "Train Loss: 25.8078, Val Loss: 25.1503\n",
            "LR: 0.000250\n",
            "--------------------------------------------------\n",
            "Epoch 29/50\n",
            "Train Loss: 25.7047, Val Loss: 24.9947\n",
            "LR: 0.000250\n",
            "--------------------------------------------------\n",
            "Epoch 30/50\n",
            "Train Loss: 25.6537, Val Loss: 24.9912\n",
            "LR: 0.000125\n",
            "--------------------------------------------------\n",
            "Epoch 31/50\n",
            "Train Loss: 25.4608, Val Loss: 24.7775\n",
            "LR: 0.000125\n",
            "--------------------------------------------------\n",
            "Epoch 32/50\n",
            "Train Loss: 25.4164, Val Loss: 24.7435\n",
            "LR: 0.000125\n",
            "--------------------------------------------------\n",
            "Epoch 33/50\n",
            "Train Loss: 25.4051, Val Loss: 24.7381\n",
            "LR: 0.000125\n",
            "--------------------------------------------------\n",
            "Epoch 34/50\n",
            "Train Loss: 25.3586, Val Loss: 24.7091\n",
            "LR: 0.000125\n",
            "--------------------------------------------------\n",
            "Epoch 35/50\n",
            "Train Loss: 25.2963, Val Loss: 24.6913\n",
            "LR: 0.000125\n",
            "--------------------------------------------------\n",
            "Epoch 36/50\n",
            "Train Loss: 25.2487, Val Loss: 24.6480\n",
            "LR: 0.000125\n",
            "--------------------------------------------------\n",
            "Epoch 37/50\n",
            "Train Loss: 25.2631, Val Loss: 24.5815\n",
            "LR: 0.000125\n",
            "--------------------------------------------------\n",
            "Epoch 38/50\n",
            "Train Loss: 25.2292, Val Loss: 24.5874\n",
            "LR: 0.000125\n",
            "--------------------------------------------------\n",
            "Epoch 39/50\n",
            "Train Loss: 25.2095, Val Loss: 24.5974\n",
            "LR: 0.000125\n",
            "--------------------------------------------------\n",
            "Epoch 40/50\n",
            "Train Loss: 25.1525, Val Loss: 24.5568\n",
            "LR: 0.000063\n",
            "--------------------------------------------------\n",
            "Epoch 41/50\n",
            "Train Loss: 25.1214, Val Loss: 24.4796\n",
            "LR: 0.000063\n",
            "--------------------------------------------------\n",
            "Epoch 42/50\n",
            "Train Loss: 25.0700, Val Loss: 24.4148\n",
            "LR: 0.000063\n",
            "--------------------------------------------------\n",
            "Epoch 43/50\n",
            "Train Loss: 25.0511, Val Loss: 24.4582\n",
            "LR: 0.000063\n",
            "--------------------------------------------------\n",
            "Epoch 44/50\n",
            "Train Loss: 25.0402, Val Loss: 24.3946\n",
            "LR: 0.000063\n",
            "--------------------------------------------------\n",
            "Epoch 45/50\n",
            "Train Loss: 25.0254, Val Loss: 24.4080\n",
            "LR: 0.000063\n",
            "--------------------------------------------------\n",
            "Epoch 46/50\n",
            "Train Loss: 25.0059, Val Loss: 24.4447\n",
            "LR: 0.000063\n",
            "--------------------------------------------------\n",
            "Epoch 47/50\n",
            "Train Loss: 24.9952, Val Loss: 24.4202\n",
            "LR: 0.000063\n",
            "--------------------------------------------------\n",
            "Epoch 48/50\n",
            "Train Loss: 24.9954, Val Loss: 24.3979\n",
            "LR: 0.000063\n",
            "--------------------------------------------------\n",
            "Epoch 49/50\n",
            "Train Loss: 24.9690, Val Loss: 24.3284\n",
            "LR: 0.000063\n",
            "--------------------------------------------------\n",
            "Epoch 50/50\n",
            "Train Loss: 24.9681, Val Loss: 24.3740\n",
            "LR: 0.000031\n",
            "--------------------------------------------------\n"
          ]
        }
      ],
      "source": [
        "# Add validation dataset\n",
        "val_dataset = datasets.MNIST(root='./data', train=False, download=True, transform=transform)\n",
        "val_loader = DataLoader(val_dataset, batch_size=128, shuffle=False)\n",
        "\n",
        "model = ImprovedCVAE(latent_dim=128).to(device)\n",
        "optimizer = optim.Adam(model.parameters(), lr=1e-3, weight_decay=1e-5)\n",
        "scheduler = optim.lr_scheduler.StepLR(optimizer, step_size=10, gamma=0.5)\n",
        "\n",
        "epochs = 50\n",
        "beta = 1.0\n",
        "best_val_loss = float('inf')\n",
        "\n",
        "for epoch in range(epochs):\n",
        "    # Training\n",
        "    model.train()\n",
        "    train_loss = 0\n",
        "    for batch_idx, (images, labels) in enumerate(train_loader):\n",
        "        images = images.to(device)\n",
        "        labels = labels.to(device)\n",
        "        labels_onehot = nn.functional.one_hot(labels, num_classes=10).float()\n",
        "\n",
        "        optimizer.zero_grad()\n",
        "        recon, mu, logvar = model(images, labels_onehot)\n",
        "        loss = improved_loss_function(recon, images, mu, logvar, beta)\n",
        "        loss.backward()\n",
        "        train_loss += loss.item()\n",
        "        optimizer.step()\n",
        "\n",
        "    # Validation\n",
        "    model.eval()\n",
        "    val_loss = 0\n",
        "    with torch.no_grad():\n",
        "        for images, labels in val_loader:\n",
        "            images = images.to(device)\n",
        "            labels = labels.to(device)\n",
        "            labels_onehot = nn.functional.one_hot(labels, num_classes=10).float()\n",
        "            \n",
        "            recon, mu, logvar = model(images, labels_onehot)\n",
        "            loss = improved_loss_function(recon, images, mu, logvar, beta)\n",
        "            val_loss += loss.item()\n",
        "\n",
        "    train_loss /= len(train_loader.dataset)\n",
        "    val_loss /= len(val_loader.dataset)\n",
        "    \n",
        "    # Save best model\n",
        "    if val_loss < best_val_loss:\n",
        "        best_val_loss = val_loss\n",
        "        torch.save(model.state_dict(), \"cvae_mnist.pth\")\n",
        "    \n",
        "    scheduler.step()\n",
        "    \n",
        "    print(f\"Epoch {epoch + 1}/{epochs}\")\n",
        "    print(f\"Train Loss: {train_loss:.4f}, Val Loss: {val_loss:.4f}\")\n",
        "    print(f\"LR: {scheduler.get_last_lr()[0]:.6f}\")\n",
        "    print(\"-\" * 50)"
      ]
    },
    {
      "cell_type": "code",
      "execution_count": 40,
      "metadata": {
        "id": "mtIyhCV9XyJJ"
      },
      "outputs": [],
      "source": [
        "torch.save(model.state_dict(), \"cvae_mnist.pth\")"
      ]
    },
    {
      "cell_type": "markdown",
      "metadata": {},
      "source": [
        "## Image Generation"
      ]
    },
    {
      "cell_type": "code",
      "execution_count": 41,
      "metadata": {
        "id": "EvW-v3l8Yphy"
      },
      "outputs": [],
      "source": [
        "digit = 5 "
      ]
    },
    {
      "cell_type": "code",
      "execution_count": 42,
      "metadata": {
        "id": "9Hwlz7fPYqUv"
      },
      "outputs": [],
      "source": [
        "model.eval()\n",
        "\n",
        "num_samples = 5\n",
        "label = torch.full((num_samples,), digit, dtype=torch.long)\n",
        "label_onehot = nn.functional.one_hot(label, num_classes=10).float().to(device)\n",
        "\n",
        "# Sample random noise from normal distribution\n",
        "z = torch.randn(num_samples, model.latent_dim).to(device)\n",
        "\n",
        "# Concatenate latent vector with one-hot label\n",
        "z_cond = torch.cat([z, label_onehot], dim=1)\n"
      ]
    },
    {
      "cell_type": "code",
      "execution_count": 43,
      "metadata": {
        "id": "8GTxDROHYsDt"
      },
      "outputs": [],
      "source": [
        "with torch.no_grad():\n",
        "    decoder_input = model.decoder_input(z_cond)\n",
        "    generated = model.decoder(decoder_input) \n"
      ]
    },
    {
      "cell_type": "code",
      "execution_count": 44,
      "metadata": {
        "colab": {
          "base_uri": "https://localhost:8080/",
          "height": 207
        },
        "id": "ysP9ieE2YukQ",
        "outputId": "745b2d86-8827-4bae-98fb-66800d9ebc4d"
      },
      "outputs": [
        {
          "data": {
            "image/png": "[encoded data removed]",
            "text/plain": [
              "<Figure size 1000x200 with 5 Axes>"
            ]
          },
          "metadata": {},
          "output_type": "display_data"
        }
      ],
      "source": [
        "generated = generated.cpu()\n",
        "\n",
        "fig, axs = plt.subplots(1, 5, figsize=(10, 2))\n",
        "for i in range(5):\n",
        "    axs[i].imshow(generated[i].squeeze(), cmap='gray')\n",
        "    axs[i].axis('off')\n",
        "plt.tight_layout()\n",
        "plt.show()\n"
      ]
    }
  ],
  "metadata": {
    "accelerator": "GPU",
    "colab": {
      "gpuType": "T4",
      "provenance": []
    },
    "kernelspec": {
      "display_name": ".venv",
      "language": "python",
      "name": "python3"
    },
    "language_info": {
      "codemirror_mode": {
        "name": "ipython",
        "version": 3
      },
      "file_extension": ".py",
      "mimetype": "text/x-python",
      "name": "python",
      "nbconvert_exporter": "python",
      "pygments_lexer": "ipython3",
      "version": "3.13.3"
    }
  },
  "nbformat": 4,
  "nbformat_minor": 0
}
