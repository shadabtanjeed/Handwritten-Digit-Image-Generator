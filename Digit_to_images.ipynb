{
  "cells": [
    {
      "cell_type": "code",
      "execution_count": null,
      "metadata": {
        "colab": {
          "base_uri": "https://localhost:8080/"
        },
        "id": "zqKTN7NHXV81",
        "outputId": "08d5fc4a-6ab9-4989-e9ce-d29fe03836ab"
      },
      "outputs": [
        {
          "name": "stdout",
          "output_type": "stream",
          "text": [
            "Sat Jun 21 16:45:48 2025       \n",
            "+-----------------------------------------------------------------------------------------+\n",
            "| NVIDIA-SMI 550.54.15              Driver Version: 550.54.15      CUDA Version: 12.4     |\n",
            "|-----------------------------------------+------------------------+----------------------+\n",
            "| GPU  Name                 Persistence-M | Bus-Id          Disp.A | Volatile Uncorr. ECC |\n",
            "| Fan  Temp   Perf          Pwr:Usage/Cap |           Memory-Usage | GPU-Util  Compute M. |\n",
            "|                                         |                        |               MIG M. |\n",
            "|=========================================+========================+======================|\n",
            "|   0  Tesla T4                       Off |   00000000:00:04.0 Off |                    0 |\n",
            "| N/A   35C    P8              9W /   70W |       0MiB /  15360MiB |      0%      Default |\n",
            "|                                         |                        |                  N/A |\n",
            "+-----------------------------------------+------------------------+----------------------+\n",
            "                                                                                         \n",
            "+-----------------------------------------------------------------------------------------+\n",
            "| Processes:                                                                              |\n",
            "|  GPU   GI   CI        PID   Type   Process name                              GPU Memory |\n",
            "|        ID   ID                                                               Usage      |\n",
            "|=========================================================================================|\n",
            "|  No running processes found                                                             |\n",
            "+-----------------------------------------------------------------------------------------+\n"
          ]
        }
      ],
      "source": [
        "# Check and enable GPU\n",
        "!nvidia-smi\n",
        "device = torch.device(\"cuda\" if torch.cuda.is_available() else \"cpu\")"
      ]
    },
    {
      "cell_type": "markdown",
      "metadata": {},
      "source": [
        "## Import the necessary libraries"
      ]
    },
    {
      "cell_type": "code",
      "execution_count": null,
      "metadata": {
        "id": "1286PXoSV5Oo"
      },
      "outputs": [],
      "source": [
        "import torch\n",
        "import torch.nn as nn\n",
        "import torch.optim as optim\n",
        "from torchvision import datasets, transforms\n",
        "from torch.utils.data import DataLoader\n",
        "import matplotlib.pyplot as plt\n",
        "import numpy as np\n",
        "import matplotlib.pyplot as plt\n"
      ]
    },
    {
      "cell_type": "markdown",
      "metadata": {},
      "source": [
        "## Data Preparation and Loading\n",
        "\n",
        "We prepare the MNIST dataset using torchvision, applying a simple transformation to convert images to tensors. The training data is loaded using a DataLoader for efficient batching and shuffling. This setup is essential for training the Conditional Variational Autoencoder (CVAE) model on handwritten digit images."
      ]
    },
    {
      "cell_type": "code",
      "execution_count": 13,
      "metadata": {
        "id": "hrzNMBakXd2u"
      },
      "outputs": [],
      "source": [
        "transform = transforms.Compose([\n",
        "    transforms.ToTensor(),\n",
        "])\n",
        "\n",
        "train_dataset = datasets.MNIST(root='./data', train=True, download=True, transform=transform)\n",
        "train_loader = DataLoader(train_dataset, batch_size=128, shuffle=True)\n"
      ]
    },
    {
      "cell_type": "markdown",
      "metadata": {},
      "source": [
        "## Model Architecture\n",
        "\n",
        "We define a Conditional Variational Autoencoder (CVAE) model using PyTorch. The encoder takes both the input image and its corresponding label (as an additional channel), processes them through convolutional layers, and outputs the mean and log-variance for the latent space. The decoder reconstructs the image from the latent vector concatenated with the label information. This architecture enables the model to generate images conditioned on specific digit labels, allowing for controlled generation of handwritten digits."
      ]
    },
    {
      "cell_type": "code",
      "execution_count": 14,
      "metadata": {
        "id": "Qv7j4SH2Xefj"
      },
      "outputs": [],
      "source": [
        "def loss_function(recon_x, x, mu, logvar):\n",
        "    BCE = nn.functional.binary_cross_entropy(recon_x, x, reduction='sum')\n",
        "    KLD = -0.5 * torch.sum(1 + logvar - mu.pow(2) - logvar.exp())\n",
        "    return BCE + KLD\n"
      ]
    },
    {
      "cell_type": "code",
      "execution_count": null,
      "metadata": {
        "id": "ZWK6vyBTYRpd"
      },
      "outputs": [],
      "source": [
        "class CVAE(nn.Module):\n",
        "    def __init__(self, latent_dim=20):\n",
        "        super(CVAE, self).__init__()\n",
        "        self.latent_dim = latent_dim\n",
        "        self.label_dim = 10 \n",
        "\n",
        "        # Encoder: takes image + label\n",
        "        self.encoder = nn.Sequential(\n",
        "            nn.Conv2d(1 + 1, 32, kernel_size=3, stride=2, padding=1),  # 1 (image) + 1 (label as channel)\n",
        "            nn.ReLU(),\n",
        "            nn.Conv2d(32, 64, kernel_size=3, stride=2, padding=1),\n",
        "            nn.ReLU(),\n",
        "            nn.Flatten()\n",
        "        )\n",
        "        self.flattened_size = 64 * 7 * 7\n",
        "\n",
        "        self.fc_mu = nn.Linear(self.flattened_size, latent_dim)\n",
        "        self.fc_logvar = nn.Linear(self.flattened_size, latent_dim)\n",
        "\n",
        "        # Decoder: takes latent vector + label\n",
        "        self.decoder_input = nn.Linear(latent_dim + self.label_dim, 64 * 7 * 7)\n",
        "\n",
        "        self.decoder = nn.Sequential(\n",
        "            nn.Unflatten(1, (64, 7, 7)),\n",
        "            nn.ConvTranspose2d(64, 32, kernel_size=3, stride=2, padding=1, output_padding=1),\n",
        "            nn.ReLU(),\n",
        "            nn.ConvTranspose2d(32, 1, kernel_size=3, stride=2, padding=1, output_padding=1),\n",
        "            nn.Sigmoid()  # Output range [0, 1]\n",
        "        )\n",
        "\n",
        "    def reparameterize(self, mu, logvar):\n",
        "        std = torch.exp(0.5 * logvar)\n",
        "        eps = torch.randn_like(std)\n",
        "        return mu + eps * std\n",
        "\n",
        "    def forward(self, x, labels_onehot):\n",
        "        # Expand label to match image size for conditioning\n",
        "        label_map = labels_onehot.view(-1, 10, 1, 1).repeat(1, 1, 28, 28)  # shape: [batch, 10, 28, 28]\n",
        "        x_cond = torch.cat([x, label_map[:, 0:1, :, :]], dim=1)  # use only 1 channel from label\n",
        "\n",
        "        encoded = self.encoder(x_cond)\n",
        "        mu = self.fc_mu(encoded)\n",
        "        logvar = self.fc_logvar(encoded)\n",
        "        z = self.reparameterize(mu, logvar)\n",
        "\n",
        "        z_cond = torch.cat([z, labels_onehot], dim=1)\n",
        "        dec_input = self.decoder_input(z_cond)\n",
        "        x_recon = self.decoder(dec_input)\n",
        "        return x_recon, mu, logvar\n"
      ]
    },
    {
      "cell_type": "markdown",
      "metadata": {},
      "source": [
        "## Model Training\n",
        "\n",
        "We train the Conditional Variational Autoencoder (CVAE) using the MNIST training dataset. For each epoch, the model processes batches of images and their corresponding labels, computes the reconstruction and KL divergence losses, and updates the model parameters using the Adam optimizer. The training loop prints the average loss per epoch, providing insight into the model's learning progress."
      ]
    },
    {
      "cell_type": "code",
      "execution_count": 16,
      "metadata": {
        "colab": {
          "base_uri": "https://localhost:8080/"
        },
        "id": "9_AWsUR2XxYC",
        "outputId": "d3ee14f7-0a63-4fd5-ae41-75604093fd3a"
      },
      "outputs": [
        {
          "name": "stdout",
          "output_type": "stream",
          "text": [
            "Epoch 1, Loss: 158.6859\n",
            "Epoch 2, Loss: 115.9956\n",
            "Epoch 3, Loss: 110.1686\n",
            "Epoch 4, Loss: 107.0223\n",
            "Epoch 5, Loss: 105.3051\n",
            "Epoch 6, Loss: 104.1843\n",
            "Epoch 7, Loss: 103.3860\n",
            "Epoch 8, Loss: 102.7382\n",
            "Epoch 9, Loss: 102.2424\n",
            "Epoch 10, Loss: 101.8417\n",
            "Epoch 11, Loss: 101.4121\n",
            "Epoch 12, Loss: 101.0292\n",
            "Epoch 13, Loss: 100.7554\n",
            "Epoch 14, Loss: 100.4662\n",
            "Epoch 15, Loss: 100.2605\n"
          ]
        }
      ],
      "source": [
        "model = CVAE().to(device)\n",
        "optimizer = optim.Adam(model.parameters(), lr=1e-3)\n",
        "epochs = 15\n",
        "\n",
        "for epoch in range(epochs):\n",
        "    model.train()\n",
        "    total_loss = 0\n",
        "    for images, labels in train_loader:\n",
        "        images = images.to(device)\n",
        "        labels = labels.to(device)\n",
        "        labels_onehot = nn.functional.one_hot(labels, num_classes=10).float()\n",
        "\n",
        "        optimizer.zero_grad()\n",
        "        recon, mu, logvar = model(images, labels_onehot)\n",
        "        loss = loss_function(recon, images, mu, logvar)\n",
        "        loss.backward()\n",
        "        total_loss += loss.item()\n",
        "        optimizer.step()\n",
        "\n",
        "    print(f\"Epoch {epoch + 1}, Loss: {total_loss / len(train_loader.dataset):.4f}\")\n"
      ]
    },
    {
      "cell_type": "code",
      "execution_count": null,
      "metadata": {
        "id": "mtIyhCV9XyJJ"
      },
      "outputs": [],
      "source": [
        "torch.save(model.state_dict(), \"cvae_mnist.pth\")"
      ]
    },
    {
      "cell_type": "markdown",
      "metadata": {},
      "source": [
        "## Image Generation"
      ]
    },
    {
      "cell_type": "code",
      "execution_count": null,
      "metadata": {
        "id": "EvW-v3l8Yphy"
      },
      "outputs": [],
      "source": [
        "digit = 5 "
      ]
    },
    {
      "cell_type": "code",
      "execution_count": null,
      "metadata": {
        "id": "9Hwlz7fPYqUv"
      },
      "outputs": [],
      "source": [
        "model.eval()\n",
        "\n",
        "num_samples = 5\n",
        "label = torch.full((num_samples,), digit, dtype=torch.long)\n",
        "label_onehot = nn.functional.one_hot(label, num_classes=10).float().to(device)\n",
        "\n",
        "# Sample random noise from normal distribution\n",
        "z = torch.randn(num_samples, model.latent_dim).to(device)\n",
        "\n",
        "# Concatenate latent vector with one-hot label\n",
        "z_cond = torch.cat([z, label_onehot], dim=1)\n"
      ]
    },
    {
      "cell_type": "code",
      "execution_count": null,
      "metadata": {
        "id": "8GTxDROHYsDt"
      },
      "outputs": [],
      "source": [
        "with torch.no_grad():\n",
        "    decoder_input = model.decoder_input(z_cond)\n",
        "    generated = model.decoder(decoder_input) \n"
      ]
    },
    {
      "cell_type": "code",
      "execution_count": null,
      "metadata": {
        "colab": {
          "base_uri": "https://localhost:8080/",
          "height": 207
        },
        "id": "ysP9ieE2YukQ",
        "outputId": "745b2d86-8827-4bae-98fb-66800d9ebc4d"
      },
      "outputs": [
        {
          "data": {
            "image/png": "[encoded data removed]",
            "text/plain": [
              "<Figure size 1000x200 with 5 Axes>"
            ]
          },
          "metadata": {},
          "output_type": "display_data"
        }
      ],
      "source": [
        "generated = generated.cpu()\n",
        "\n",
        "fig, axs = plt.subplots(1, 5, figsize=(10, 2))\n",
        "for i in range(5):\n",
        "    axs[i].imshow(generated[i].squeeze(), cmap='gray')\n",
        "    axs[i].axis('off')\n",
        "plt.tight_layout()\n",
        "plt.show()\n"
      ]
    }
  ],
  "metadata": {
    "accelerator": "GPU",
    "colab": {
      "gpuType": "T4",
      "provenance": []
    },
    "kernelspec": {
      "display_name": "Python 3",
      "name": "python3"
    },
    "language_info": {
      "name": "python"
    }
  },
  "nbformat": 4,
  "nbformat_minor": 0
}
